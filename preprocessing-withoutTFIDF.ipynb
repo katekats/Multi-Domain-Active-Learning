{
 "cells": [
  {
   "cell_type": "markdown",
   "metadata": {},
   "source": [
    "# Data Preprocessing"
   ]
  },
  {
   "cell_type": "markdown",
   "metadata": {},
   "source": [
    "The following file contains the code for preprocessing the data."
   ]
  },
  {
   "cell_type": "markdown",
   "metadata": {},
   "source": [
    "Make sure to create a directory \"data/cleaned_data/\" and \"data/fully_preprocessed_data/\" such that the data can be saved there. Besides, save the fasttext file of https://fasttext.cc/docs/en/english-vectors.html (choosing wiki news - 1 million word vectors) under \"data/fasttext_file/wiki-news-300d-1M.vec\"."
   ]
  },
  {
   "cell_type": "markdown",
   "metadata": {},
   "source": [
    "## Importing libraries"
   ]
  },
  {
   "cell_type": "code",
   "execution_count": 498,
   "metadata": {
    "scrolled": true
   },
   "outputs": [
    {
     "name": "stderr",
     "output_type": "stream",
     "text": [
      "[nltk_data] Downloading package punkt to /root/nltk_data...\n",
      "[nltk_data]   Package punkt is already up-to-date!\n"
     ]
    },
    {
     "data": {
      "text/plain": [
       "True"
      ]
     },
     "execution_count": 498,
     "metadata": {},
     "output_type": "execute_result"
    }
   ],
   "source": [
    "# imports\n",
    "# deprecation warning might appear for collections library, however meaningless for python version 3.7.7\n",
    "import os\n",
    "import re\n",
    "import glob\n",
    "import nltk\n",
    "import h5py\n",
    "import collections\n",
    "import numpy as np\n",
    "import pandas as pd\n",
    "import pickle as pkl\n",
    "import nltk\n",
    "from nltk.corpus import stopwords\n",
    "from nltk.stem.wordnet import WordNetLemmatizer\n",
    "from keras.preprocessing import sequence\n",
    "from sklearn.feature_extraction.text import TfidfVectorizer\n",
    "from matplotlib import pyplot as plt\n",
    "\n",
    "nltk.download('punkt')\n",
    "#nltk.download('omw-1.4')"
   ]
  },
  {
   "cell_type": "markdown",
   "metadata": {},
   "source": [
    "## Data Cleaning"
   ]
  },
  {
   "cell_type": "code",
   "execution_count": 499,
   "metadata": {},
   "outputs": [],
   "source": [
    "# create the stopwords list\n",
    "stopwords = stopwords.words('english')\n",
    "stopwords_keep =['no', 'not', 'nor']\n",
    "stopwords = list(set(stopwords).difference(set(stopwords_keep)))\n",
    "\n",
    "# set the lemmatizer\n",
    "lemmatizer = WordNetLemmatizer()"
   ]
  },
  {
   "cell_type": "code",
   "execution_count": 500,
   "metadata": {},
   "outputs": [],
   "source": [
    "# function for data cleaning\n",
    "def data_cleaning(df):\n",
    "    \n",
    "    # handle contracted words\n",
    "    df['text'] = df['text'].apply(lambda x: ' '.join(['can' if word == 'ca' else word for word in str(x).split()]))\n",
    "    df['text'] = df['text'].apply(lambda x: ' '.join(['will' if word == 'wo' else word for word in str(x).split()]))\n",
    "    df['text'] = df['text'].apply(lambda x: ' '.join(['shall' if word == 'sha' else word for word in str(x).split()]))\n",
    "    df['text'] = df['text'].apply(lambda x: ' '.join(['not' if word == 'nt' or word == \"n't\" else word for word in str(x).split()]))\n",
    "    \n",
    "    # remove punctuation & special characters\n",
    "    df['text'] = df['text'].apply(lambda x: ' '.join(re.split('\\W+', x)))\n",
    "    df['text'] = df['text'].apply(lambda x: ' '.join(word for word in x.split() if word.isalnum()))\n",
    "   \n",
    "    # remove nouns and numbers\n",
    "    df['text'] = df['text'].astype(str).apply(lambda x: nltk.tag.pos_tag(x.split()))\n",
    "    df['text'] = df['text'].apply(lambda x: ' '.join([word for word, tag in x if tag != 'CD']))\n",
    "    # remove stopwords\n",
    "    df['text'] = df['text'].apply(lambda x: ' '.join([word for word in x.split() if word not in stopwords]))\n",
    "    \n",
    "    # lemmatize\n",
    "   # df['text'] = df['text'].apply(lambda x: ' '.join([lemmatizer.lemmatize(word) for word in x.split()]))\n",
    "    print(df)\n",
    "    return df"
   ]
  },
  {
   "cell_type": "code",
   "execution_count": 501,
   "metadata": {},
   "outputs": [],
   "source": [
    "# function for loading and cleaning the data using the data_cleaning() function\n",
    "def load_and_clean(path):\n",
    "    \n",
    "    # load the data into one data frame, create a domain columns that indicates the domain by using the filename\n",
    "    df_list = []\n",
    "    for file_name in glob.glob(path):\n",
    "        df_temp = pd.read_csv(file_name, delimiter = '\\t', names=[\"label\",\"text\"], encoding='latin-1')\n",
    "        df_temp['domain'] = os.path.basename(file_name)\n",
    "        df_list.append(df_temp)    \n",
    "    df = pd.concat(df_list, ignore_index = True)\n",
    "    \n",
    "    # clean the data\n",
    "    df = data_cleaning(df)\n",
    "    \n",
    "    # delete empty strings\n",
    "    df['text'].replace('', np.nan, inplace=True)\n",
    "    df.dropna(subset=['text'], inplace=True)\n",
    "    \n",
    "    return df"
   ]
  },
  {
   "cell_type": "code",
   "execution_count": 502,
   "metadata": {},
   "outputs": [],
   "source": [
    "# function for loading and cleaning the data using the data_cleaning() function\n",
    "def load_and_clean2(path):\n",
    "    \n",
    "    # load the data into one data frame, create a domain columns that indicates the domain by using the filename\n",
    "    df_list = []\n",
    "    for file_name in glob.glob(path):\n",
    "        df_temp = pd.read_csv(file_name, delimiter = '\\t', names=[\"text\"], encoding='latin-1')\n",
    "        df_temp['domain'] = os.path.basename(file_name)\n",
    "        df_list.append(df_temp)    \n",
    "    df = pd.concat(df_list, ignore_index = True)\n",
    "    \n",
    "    # clean the data\n",
    "    df = data_cleaning(df)\n",
    "    \n",
    "    # delete empty strings\n",
    "    df['text'].replace('', np.nan, inplace=True)\n",
    "    df.dropna(subset=['text'], inplace=True)\n",
    "    \n",
    "    return df"
   ]
  },
  {
   "cell_type": "code",
   "execution_count": 503,
   "metadata": {},
   "outputs": [
    {
     "name": "stdout",
     "output_type": "stream",
     "text": [
      "       label                                               text  \\\n",
      "0          1  bourne ultimatum review thrilling set get fina...   \n",
      "1          1  hollow man starts brilliant flawed scientist d...   \n",
      "2          1  since title english imdb lists show primary la...   \n",
      "3          0  oh dear englishman small part welsh fan anthon...   \n",
      "4          1  following sitcom plot mindlessly easy characte...   \n",
      "...      ...                                                ...   \n",
      "25375      1  recived paint quickly great condition bad ball...   \n",
      "25376      1  originally bought blue lb red lb black lb grip...   \n",
      "25377      0  rarely get taken time song played times no ins...   \n",
      "25378      1  bought neighbors little girl loved easy put to...   \n",
      "25379      0  well first ordered product amazon sent somethi...   \n",
      "\n",
      "                           domain  \n",
      "0                 imdb.task.train  \n",
      "1                 imdb.task.train  \n",
      "2                 imdb.task.train  \n",
      "3                 imdb.task.train  \n",
      "4                 imdb.task.train  \n",
      "...                           ...  \n",
      "25375  sports_outdoors.task.train  \n",
      "25376  sports_outdoors.task.train  \n",
      "25377  sports_outdoors.task.train  \n",
      "25378  sports_outdoors.task.train  \n",
      "25379  sports_outdoors.task.train  \n",
      "\n",
      "[25380 rows x 3 columns]\n",
      "      label                                               text  \\\n",
      "0         0                    received paper weeks stop comin   \n",
      "1         1  imagine making beehive cake honey citrus iced ...   \n",
      "2         1  magazines writing serious writers need read po...   \n",
      "3         1  although yet subscribe aperture heard little s...   \n",
      "4         1  absolutely love magazine wonderful motivation ...   \n",
      "...     ...                                                ...   \n",
      "6395      1  purchased hair dryer unusual reason old watt c...   \n",
      "6396      0  bought scale figured price right well say get ...   \n",
      "6397      1     good product helps prolong life electric razor   \n",
      "6398      0  not know people talking energy drink tastes li...   \n",
      "6399      1  stuff awesome hangovers like high school stapl...   \n",
      "\n",
      "                              domain  \n",
      "0                magazines.task.test  \n",
      "1                magazines.task.test  \n",
      "2                magazines.task.test  \n",
      "3                magazines.task.test  \n",
      "4                magazines.task.test  \n",
      "...                              ...  \n",
      "6395  health_personal_care.task.test  \n",
      "6396  health_personal_care.task.test  \n",
      "6397  health_personal_care.task.test  \n",
      "6398  health_personal_care.task.test  \n",
      "6399  health_personal_care.task.test  \n",
      "\n",
      "[6400 rows x 3 columns]\n",
      "                                                    text             domain\n",
      "0      zoe clarke williams lackluster thriller new be...    MR.task.unlabel\n",
      "1      macdowell gives give solid anguished performan...    MR.task.unlabel\n",
      "2      powerful telling story examines forbidden love...    MR.task.unlabel\n",
      "3                              allen stopped challenging    MR.task.unlabel\n",
      "4      stars may college kids subject matter adult ge...    MR.task.unlabel\n",
      "...                                                  ...                ...\n",
      "30439  After reading reviews nearly every wipe warmer...  baby.task.unlabel\n",
      "30440  LAs bases para mantener un mamon esteril son f...  baby.task.unlabel\n",
      "30441  I used bottles first son wonderful They never ...  baby.task.unlabel\n",
      "30442  Okay first I get babiesrus wanted charge arm l...  baby.task.unlabel\n",
      "30443  We came back vacation holidays used TOTEaTOT f...  baby.task.unlabel\n",
      "\n",
      "[30444 rows x 2 columns]\n"
     ]
    }
   ],
   "source": [
    "# load and clean the train and test data\n",
    "df_train = load_and_clean('data/uncleaned_data/train/*')\n",
    "df_test = load_and_clean('data/uncleaned_data/test/*')\n",
    "df_unlabel = load_and_clean2('data/uncleaned_data/unlabelled/*')\n",
    "# delete \"task.train\" or \"task.text\" such that the column domain just shows the domain\n",
    "#df_train['domain'] = [re.sub('.task.train$', '', word) for word in np.array(df_train['domain'])]\n",
    "#df_test['domain'] = [re.sub('.task.test$', '', word) for word in np.array(df_test['domain'])]\n",
    "#df_unlabel['domain'] = [re.sub('.task.unlabel$', '', word) for word in np.array(df_unlabel['domain'])]"
   ]
  },
  {
   "cell_type": "code",
   "execution_count": 504,
   "metadata": {},
   "outputs": [],
   "source": [
    "df_train['domain'] = [re.sub('.task.train$', '', word) for word in np.array(df_train['domain'])]\n",
    "df_test['domain'] = [re.sub('.task.test$', '', word) for word in np.array(df_test['domain'])]\n",
    "df_unlabel['domain'] = [re.sub('.task.unlabel$', '', word) for word in np.array(df_unlabel['domain'])]"
   ]
  },
  {
   "cell_type": "code",
   "execution_count": 505,
   "metadata": {},
   "outputs": [],
   "source": [
    "df_unlabel[\"label\"]=3"
   ]
  },
  {
   "cell_type": "code",
   "execution_count": 506,
   "metadata": {},
   "outputs": [],
   "source": [
    "#df_train2 = df_train[[\"text\", \"domain\"]]\n",
    "#df_train[\"label_id\"]=1\n",
    "#df_unlabel[\"label_id\"]=0\n",
    "df_merged = pd.concat([df_train, df_unlabel], ignore_index=True)"
   ]
  },
  {
   "cell_type": "code",
   "execution_count": 332,
   "metadata": {},
   "outputs": [
    {
     "data": {
      "text/plain": [
       "(25380, 4)"
      ]
     },
     "execution_count": 332,
     "metadata": {},
     "output_type": "execute_result"
    }
   ],
   "source": [
    "df_train.shape"
   ]
  },
  {
   "cell_type": "code",
   "execution_count": 333,
   "metadata": {},
   "outputs": [
    {
     "data": {
      "text/plain": [
       "(6400, 4)"
      ]
     },
     "execution_count": 333,
     "metadata": {},
     "output_type": "execute_result"
    }
   ],
   "source": [
    "df_test.shape"
   ]
  },
  {
   "cell_type": "code",
   "execution_count": 507,
   "metadata": {},
   "outputs": [],
   "source": [
    "# save cleaned data to files\n",
    "pkl.dump(df_train, open(\"data/cleaned_data/train_cleaned.p\", \"wb\"))\n",
    "pkl.dump(df_test, open(\"data/cleaned_data/test_cleaned.p\", \"wb\"))\n",
    "pkl.dump(df_merged, open(\"data/cleaned_data/merged_cleaned.p\", \"wb\"))"
   ]
  },
  {
   "cell_type": "markdown",
   "metadata": {},
   "source": [
    "## Setting the sequence length and vocabulary size"
   ]
  },
  {
   "cell_type": "code",
   "execution_count": null,
   "metadata": {},
   "outputs": [],
   "source": [
    "# part of the code below in this file originates from the following book:\n",
    "# Gulli, Antonio, Amita Kapoor, and Sujit Pal. Deep Learning with TensorFlow 2 and Keras: Regression, ConvNets, GANs, RNNs, NLP, and More with TensorFlow 2 and the Keras API. Packt Publishing, Limited, 2019, pp. 365-373."
   ]
  },
  {
   "cell_type": "code",
   "execution_count": 508,
   "metadata": {},
   "outputs": [],
   "source": [
    "# open cleaned train and test data (if the previous cells were executed a different time)\n",
    "with open('data/cleaned_data/train_cleaned.p', 'rb') as f:\n",
    "    df_train = pkl.load(f)\n",
    "with open('data/cleaned_data/test_cleaned.p', 'rb') as f:\n",
    "    df_test = pkl.load(f)\n",
    "with open('data/cleaned_data/merged_cleaned.p', 'rb') as f:\n",
    "    df_merged = pkl.load(f)\n",
    "    \n",
    "# loading the unknown token for future use\n",
    "with open('unk_token.p', 'rb') as f:\n",
    "    unk = pkl.load(f)"
   ]
  },
  {
   "cell_type": "code",
   "execution_count": 99,
   "metadata": {},
   "outputs": [
    {
     "data": {
      "text/html": [
       "<div>\n",
       "<style scoped>\n",
       "    .dataframe tbody tr th:only-of-type {\n",
       "        vertical-align: middle;\n",
       "    }\n",
       "\n",
       "    .dataframe tbody tr th {\n",
       "        vertical-align: top;\n",
       "    }\n",
       "\n",
       "    .dataframe thead th {\n",
       "        text-align: right;\n",
       "    }\n",
       "</style>\n",
       "<table border=\"1\" class=\"dataframe\">\n",
       "  <thead>\n",
       "    <tr style=\"text-align: right;\">\n",
       "      <th></th>\n",
       "      <th>label</th>\n",
       "      <th>text</th>\n",
       "      <th>domain</th>\n",
       "      <th>idx_domain</th>\n",
       "    </tr>\n",
       "  </thead>\n",
       "  <tbody>\n",
       "    <tr>\n",
       "      <th>0</th>\n",
       "      <td>1</td>\n",
       "      <td>bourne ultimatum 2007 review thrilling set two...</td>\n",
       "      <td>imdb</td>\n",
       "      <td>0</td>\n",
       "    </tr>\n",
       "    <tr>\n",
       "      <th>1</th>\n",
       "      <td>1</td>\n",
       "      <td>hollow man starts brilliant flawed scientist d...</td>\n",
       "      <td>imdb</td>\n",
       "      <td>1</td>\n",
       "    </tr>\n",
       "    <tr>\n",
       "      <th>2</th>\n",
       "      <td>1</td>\n",
       "      <td>since title english imdb lists show primary la...</td>\n",
       "      <td>imdb</td>\n",
       "      <td>2</td>\n",
       "    </tr>\n",
       "    <tr>\n",
       "      <th>3</th>\n",
       "      <td>0</td>\n",
       "      <td>oh dear englishman small part welsh fan anthon...</td>\n",
       "      <td>imdb</td>\n",
       "      <td>3</td>\n",
       "    </tr>\n",
       "    <tr>\n",
       "      <th>4</th>\n",
       "      <td>1</td>\n",
       "      <td>following sitcom plot mindlessly easy characte...</td>\n",
       "      <td>imdb</td>\n",
       "      <td>4</td>\n",
       "    </tr>\n",
       "    <tr>\n",
       "      <th>...</th>\n",
       "      <td>...</td>\n",
       "      <td>...</td>\n",
       "      <td>...</td>\n",
       "      <td>...</td>\n",
       "    </tr>\n",
       "    <tr>\n",
       "      <th>55819</th>\n",
       "      <td>3</td>\n",
       "      <td>After reading reviews nearly every wipe warmer...</td>\n",
       "      <td>baby</td>\n",
       "      <td>3495</td>\n",
       "    </tr>\n",
       "    <tr>\n",
       "      <th>55820</th>\n",
       "      <td>3</td>\n",
       "      <td>LAs bases para mantener un mamon esteril son f...</td>\n",
       "      <td>baby</td>\n",
       "      <td>3496</td>\n",
       "    </tr>\n",
       "    <tr>\n",
       "      <th>55821</th>\n",
       "      <td>3</td>\n",
       "      <td>I used bottles first son wonderful They never ...</td>\n",
       "      <td>baby</td>\n",
       "      <td>3497</td>\n",
       "    </tr>\n",
       "    <tr>\n",
       "      <th>55822</th>\n",
       "      <td>3</td>\n",
       "      <td>Okay first I get babiesrus wanted charge arm l...</td>\n",
       "      <td>baby</td>\n",
       "      <td>3498</td>\n",
       "    </tr>\n",
       "    <tr>\n",
       "      <th>55823</th>\n",
       "      <td>3</td>\n",
       "      <td>We came back vacation holidays used TOTEaTOT f...</td>\n",
       "      <td>baby</td>\n",
       "      <td>3499</td>\n",
       "    </tr>\n",
       "  </tbody>\n",
       "</table>\n",
       "<p>55824 rows × 4 columns</p>\n",
       "</div>"
      ],
      "text/plain": [
       "       label                                               text domain  \\\n",
       "0          1  bourne ultimatum 2007 review thrilling set two...   imdb   \n",
       "1          1  hollow man starts brilliant flawed scientist d...   imdb   \n",
       "2          1  since title english imdb lists show primary la...   imdb   \n",
       "3          0  oh dear englishman small part welsh fan anthon...   imdb   \n",
       "4          1  following sitcom plot mindlessly easy characte...   imdb   \n",
       "...      ...                                                ...    ...   \n",
       "55819      3  After reading reviews nearly every wipe warmer...   baby   \n",
       "55820      3  LAs bases para mantener un mamon esteril son f...   baby   \n",
       "55821      3  I used bottles first son wonderful They never ...   baby   \n",
       "55822      3  Okay first I get babiesrus wanted charge arm l...   baby   \n",
       "55823      3  We came back vacation holidays used TOTEaTOT f...   baby   \n",
       "\n",
       "       idx_domain  \n",
       "0               0  \n",
       "1               1  \n",
       "2               2  \n",
       "3               3  \n",
       "4               4  \n",
       "...           ...  \n",
       "55819        3495  \n",
       "55820        3496  \n",
       "55821        3497  \n",
       "55822        3498  \n",
       "55823        3499  \n",
       "\n",
       "[55824 rows x 4 columns]"
      ]
     },
     "execution_count": 99,
     "metadata": {},
     "output_type": "execute_result"
    }
   ],
   "source": [
    "df_merged"
   ]
  },
  {
   "cell_type": "code",
   "execution_count": 509,
   "metadata": {},
   "outputs": [
    {
     "data": {
      "text/plain": [
       "{'MR': 0,\n",
       " 'apparel': 1,\n",
       " 'baby': 2,\n",
       " 'books': 3,\n",
       " 'camera_photo': 4,\n",
       " 'dvd': 5,\n",
       " 'electronics': 6,\n",
       " 'health_personal_care': 7,\n",
       " 'imdb': 8,\n",
       " 'kitchen_housewares': 9,\n",
       " 'magazines': 10,\n",
       " 'music': 11,\n",
       " 'software': 12,\n",
       " 'sports_outdoors': 13,\n",
       " 'toys_games': 14,\n",
       " 'video': 15}"
      ]
     },
     "metadata": {},
     "output_type": "display_data"
    }
   ],
   "source": [
    "# prepare the data: nummerate instances (to know which instances were the orginal ones after shuffling before the autoencoder) \n",
    "# and create a dictionary that numerically encodes the domain \n",
    "\n",
    "# nummerate each instance for each domain\n",
    "df_train['idx_domain'] = df_train.groupby(['domain']).cumcount()\n",
    "df_test['idx_domain'] = df_test.groupby(['domain']).cumcount()\n",
    "df_merged['idx_domain'] = df_merged.groupby('domain').cumcount()\n",
    "# create a dictionary that numerically encodes the domain\n",
    "dict_domain = dict(zip(sorted(set(np.array(df_train['domain']))), np.arange(16)))\n",
    "#dict_domain = dict(zip(sorted(set(np.array(df_merged['domain']))), np.arange(16)))\n",
    "display(dict_domain)"
   ]
  },
  {
   "cell_type": "code",
   "execution_count": 510,
   "metadata": {},
   "outputs": [],
   "source": [
    "df_merged[\"idx_domain\"]= df_merged[\"idx_domain\"].astype('Int64')"
   ]
  },
  {
   "cell_type": "code",
   "execution_count": 138,
   "metadata": {},
   "outputs": [],
   "source": [
    "#df_merged.head(2000)"
   ]
  },
  {
   "cell_type": "code",
   "execution_count": 511,
   "metadata": {},
   "outputs": [],
   "source": [
    "# divides the data of the data frame into reviews, labels, domain and instance number\n",
    "def divide_data(df, dict_domain):\n",
    "    \n",
    "    reviews = np.array([s for s in df['text']])\n",
    "    X ,y, domain, idx_domain = reviews, np.array(df['label']), np.array(df['domain']), np.array(df['idx_domain'])\n",
    "    domain = [dict_domain.get(c, c) for c in domain]\n",
    "       \n",
    "    return X, y, domain, idx_domain"
   ]
  },
  {
   "cell_type": "code",
   "execution_count": 512,
   "metadata": {},
   "outputs": [],
   "source": [
    "# divides the data of the data frame into reviews, labels, domain and instance number\n",
    "def divide_data2(df, dict_domain):\n",
    "    \n",
    "    reviews = np.array([s for s in df['text']])\n",
    "    X, y, domain, idx_domain= reviews, np.array(df['label']), np.array(df['domain']), np.array(df['idx_domain'])\n",
    "    domain = [dict_domain.get(c, c) for c in domain]\n",
    "       \n",
    "    return X, y, domain, idx_domain"
   ]
  },
  {
   "cell_type": "code",
   "execution_count": 513,
   "metadata": {},
   "outputs": [],
   "source": [
    "# divide train and test data such that the reviews, labels, domain and instance number are separated\n",
    "X_train, y_train, domain_train, idx_domain_train = divide_data(df_train, dict_domain)\n",
    "X_test, y_test, domain_test, idx_domain_test = divide_data(df_test, dict_domain)"
   ]
  },
  {
   "cell_type": "code",
   "execution_count": 514,
   "metadata": {},
   "outputs": [],
   "source": [
    "X_merged, y_merged, domain_merged, idx_domain_merged= divide_data(df_merged, dict_domain)"
   ]
  },
  {
   "cell_type": "code",
   "execution_count": 515,
   "metadata": {},
   "outputs": [],
   "source": [
    "# parse training instances into one list called parsed_reviews_train\n",
    "# and count the number of words per review in the list nr_words_train (needed when determining the vocabulary size and sequence length)\n",
    "\n",
    "word_freqs_merged = collections.Counter()\n",
    "nr_words_merged = []\n",
    "parsed_reviews_merged = []\n",
    "\n",
    "# loop over the different reviews and tokenize the words\n",
    "for review in X_merged:\n",
    "    words = nltk.word_tokenize(review)\n",
    "    parsed_words_merged = []\n",
    "    \n",
    "    # for each review count word frequencies and parse words\n",
    "    for word in words:\n",
    "        word_freqs_merged[word] += 1\n",
    "        parsed_words_merged.append(word)\n",
    "      \n",
    "    # append the number of words in each review, append the parsed reviews\n",
    "    nr_words_merged.append(len(words))      \n",
    "    parsed_reviews_merged.append(\" \".join(parsed_words_merged))"
   ]
  },
  {
   "cell_type": "code",
   "execution_count": 96,
   "metadata": {},
   "outputs": [
    {
     "data": {
      "text/plain": [
       "55824"
      ]
     },
     "execution_count": 96,
     "metadata": {},
     "output_type": "execute_result"
    }
   ],
   "source": [
    "len(parsed_reviews_merged)"
   ]
  },
  {
   "cell_type": "code",
   "execution_count": 516,
   "metadata": {},
   "outputs": [],
   "source": [
    "# parse test instances into one list called parsed_reviews_test\n",
    "# and count the number of words per review into the list nr_words_esz\n",
    "parsed_reviews_test = []\n",
    "nr_words_test = []\n",
    "for review in X_test:\n",
    "    words = nltk.word_tokenize(review)\n",
    "    parsed_words = []\n",
    "    \n",
    "    for word in words:\n",
    "        parsed_words.append(word)\n",
    "        \n",
    "    nr_words_test.append(len(words))  \n",
    "    parsed_reviews_test.append(\" \".join(parsed_words))"
   ]
  },
  {
   "cell_type": "code",
   "execution_count": 535,
   "metadata": {},
   "outputs": [
    {
     "data": {
      "image/png": "[encoded data removed]",
      "text/plain": [
       "<Figure size 432x288 with 1 Axes>"
      ]
     },
     "metadata": {
      "needs_background": "light"
     },
     "output_type": "display_data"
    },
    {
     "name": "stdout",
     "output_type": "stream",
     "text": [
      "Reviews longer than 80 words : 12704\n",
      "Reviews in total: 55824\n",
      "Percentage of reviews with more than 80 words: 18.20578962453425 %\n"
     ]
    }
   ],
   "source": [
    "# determining the sequence length\n",
    "\n",
    "# count the reviews that are longer than 100 words\n",
    "nr_reviews_merged_long = sum(i > 80 for i in nr_words_merged)\n",
    "\n",
    "# create a histogram\n",
    "plt.hist(nr_words_merged, bins = 35, range = (0,400))\n",
    "plt.xlabel('\\nNumber of words in a review\\n', fontsize = 10)\n",
    "plt.ylabel('\\nNumber of reviews\\n', fontsize = 10)\n",
    "plt.show()\n",
    "\n",
    "# print calculated numbers for longer sequences\n",
    "print(\"Reviews longer than 80 words : \"+ str(nr_reviews_merged_long))\n",
    "print(\"Reviews in total: \"+ str(len(nr_words_merged)))\n",
    "print(\"Percentage of reviews with more than 80 words: \"+str((nr_reviews_merged_long/len(nr_words_merged))*80)+' %')"
   ]
  },
  {
   "cell_type": "code",
   "execution_count": 536,
   "metadata": {},
   "outputs": [
    {
     "name": "stdout",
     "output_type": "stream",
     "text": [
      "Full vocabulary size: 105039\n",
      "Percentage of words covered by vocabulary: 0.9579399973582232\n"
     ]
    }
   ],
   "source": [
    "# determining the vocabulary size\n",
    "\n",
    "# print the full vocabulary size\n",
    "print(\"Full vocabulary size: \" + str(len(word_freqs_merged)))\n",
    "\n",
    "# determine how many words make up the 25000 most commonly used words\n",
    "vocab_words_total_merged = sum(list(word_freqs_merged.values())[:65000])\n",
    "\n",
    "# determine total words \n",
    "words_total_merged = sum(list(word_freqs_merged.values()))\n",
    "\n",
    "# print the percentage of words covered by a vocabulary of 25000\n",
    "print('Percentage of words covered by vocabulary: ' + str(vocab_words_total_merged/words_total_merged))"
   ]
  },
  {
   "cell_type": "code",
   "execution_count": 530,
   "metadata": {},
   "outputs": [],
   "source": [
    "# set the vocabulary size and the sequence length\n",
    "vocab_size = 65000\n",
    "seq_len = 50"
   ]
  },
  {
   "cell_type": "markdown",
   "metadata": {},
   "source": [
    "## Word embedding preparation and padding sequences"
   ]
  },
  {
   "cell_type": "code",
   "execution_count": 531,
   "metadata": {},
   "outputs": [],
   "source": [
    "# prepare the lookup-table id2word using the vocabulary\n",
    "# id2word maps word ids to written words\n",
    "# PAD token has id 0, UNK token has id 1\n",
    "\n",
    "word2id = {}\n",
    "word2id[\"PAD\"] = 0\n",
    "word2id[\"UNK\"] = 1\n",
    "for v, (k, _) in enumerate(word_freqs_merged.most_common(vocab_size - 2)):\n",
    "    word2id[k] = v + 2\n",
    "id2word = {v:k for k, v in word2id.items()}"
   ]
  },
  {
   "cell_type": "code",
   "execution_count": 532,
   "metadata": {},
   "outputs": [],
   "source": [
    "# function for checking if a word is contained in the vocabulary, otherwise UNK token\n",
    "\n",
    "\n",
    "# function for loading the word embeddings into the matrix embedding in a sorted way\n",
    "# word embedding for word with id 0 constitutes the starting row in the matrix, etc.\n",
    "def load_vectors(embedding_file, word2id, embed_size):\n",
    "    embedding = np.zeros((len(word2id), embed_size))\n",
    "    file = open(embedding_file, encoding=\"utf8\")\n",
    "    for line in file:\n",
    "        cols = line.strip().split()\n",
    "        word = cols[0]\n",
    "        if embed_size == 0:\n",
    "            embed_size = len(cols) - 1\n",
    "        if word in word2id:\n",
    "            vec = np.array([float(v) for v in cols[1:]])\n",
    "            embedding[lookup_word2id(word)] = vec\n",
    "    embedding[word2id[\"PAD\"]] = np.zeros((embed_size))\n",
    "    embedding[word2id[\"UNK\"]] = unk\n",
    "    # for first time execution:\n",
    "    # embedding[word2id[\"UNK\"]] = np.random.uniform(-1, 1, embed_size)\n",
    "    \n",
    "    return embedding\n",
    "\n",
    "# function for assigning the word embeddings to the word ids in the sequences\n",
    "# resulting embbedding array emb is of shape (data.shape[0], maxlen, embedding_dim)\n",
    "def assign_wordvectors(parsed_ids, dict_emb):\n",
    "    \n",
    "    emb = np.copy(parsed_ids).astype(int)\n",
    "    emb = list(emb.flatten())\n",
    "    emb = np.array([*map(dict_emb.get, emb)])\n",
    "    emb = emb.reshape((parsed_ids.shape[0], seq_len, 300))\n",
    "    \n",
    "    return emb"
   ]
  },
  {
   "cell_type": "code",
   "execution_count": 533,
   "metadata": {},
   "outputs": [],
   "source": [
    "# encode the words to ids and pad them for train and test data\n",
    "#parsed_ids_train = [[lookup_word2id(w) for w in s.split()] for s in parsed_reviews_train]\n",
    "#parsed_ids_train = sequence.pad_sequences(parsed_ids_train, 100)\n",
    "parsed_ids_merged = [[lookup_word2id(w) for w in s.split()] for s in parsed_reviews_merged]\n",
    "parsed_ids_merged = sequence.pad_sequences(parsed_ids_merged, 50)\n",
    "parsed_ids_test = [[lookup_word2id(w) for w in s.split()] for s in parsed_reviews_test]\n",
    "parsed_ids_test = sequence.pad_sequences(parsed_ids_test, 50)\n",
    "\n",
    "# load the embeddings into an embedding matrix using the word2id lookup-table\n",
    "# embeddings are loaded exactly in order of the ids\n",
    "embeddings = load_vectors('wiki-news-300d-1M.vec', word2id, 300)\n",
    "\n",
    "# creating an embedding dictionary of word vectors from the embedding matrix\n",
    "# keys are ids and values are word embeddings\n",
    "dict_emb = dict((j, embeddings[j])for j in range(embeddings.shape[0]))\n",
    "\n",
    "# assign word embeddings to train and test data\n",
    "#data_emb_train = assign_wordvectors(parsed_ids_train, dict_emb) \n",
    "data_emb_merged = assign_wordvectors(parsed_ids_merged, dict_emb) \n",
    "data_emb_test = assign_wordvectors(parsed_ids_test, dict_emb) \n"
   ]
  },
  {
   "cell_type": "code",
   "execution_count": null,
   "metadata": {},
   "outputs": [],
   "source": [
    "data_emb_merged.shape"
   ]
  },
  {
   "cell_type": "code",
   "execution_count": 534,
   "metadata": {},
   "outputs": [],
   "source": [
    "# save preprocessed data to files\n",
    "#f = h5py.File('data/fully_preprocessed_data/X_train_preprocessed.h5','a')\n",
    "#f.create_dataset('data',data=data_emb_train)\n",
    "#f.close()\n",
    "h = h5py.File('data/fully_preprocessed_data/X_merged_preprocessed_new14.h5','a')\n",
    "h.create_dataset('data',data=data_emb_merged)\n",
    "h.close()\n",
    "\n",
    "g = h5py.File('data/fully_preprocessed_data/X_test_preprocessed_new14.h5','a')\n",
    "g.create_dataset('data',data=data_emb_test)\n",
    "g.close()\n",
    "\n",
    "\n",
    "#pkl.dump(np.array([y_train,domain_train,idx_domain_train]), open(\"domain_and_label_train.p\", \"wb\"))\n",
    "pkl.dump(np.array([y_merged,domain_merged,idx_domain_merged]), open(\"domain_and_label_merged14.p\", \"wb\"))\n",
    "pkl.dump(np.array([y_test,domain_test,idx_domain_test]), open(\"domain_and_label_test14.p\", \"wb\"))\n"
   ]
  },
  {
   "cell_type": "code",
   "execution_count": null,
   "metadata": {},
   "outputs": [],
   "source": []
  }
 ],
 "metadata": {
  "kernelspec": {
   "display_name": "Python 3 (ipykernel)",
   "language": "python",
   "name": "python3"
  },
  "language_info": {
   "codemirror_mode": {
    "name": "ipython",
    "version": 3
   },
   "file_extension": ".py",
   "mimetype": "text/x-python",
   "name": "python",
   "nbconvert_exporter": "python",
   "pygments_lexer": "ipython3",
   "version": "3.8.10"
  }
 },
 "nbformat": 4,
 "nbformat_minor": 4
}
